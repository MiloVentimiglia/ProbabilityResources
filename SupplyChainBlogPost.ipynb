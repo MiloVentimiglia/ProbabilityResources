{
 "cells": [
  {
   "cell_type": "markdown",
   "metadata": {},
   "source": [
    "# Supply Chain 101 revisited with Modern Bayesian Techniques (Draft Outline)\n",
    "\n",
    "Companies want to have stock on hand to sell you, but they don't want to buy stuff they won't sell. How do you figure out how much to hold a buy?"
   ]
  },
  {
   "cell_type": "markdown",
   "metadata": {},
   "source": [
    "Step 1: Estimate supply lead times and demand levels\n",
    "\n",
    "To know how much we need to order, and when, we need use a basic formula\n",
    "* Daily_Demand * Lead Time in days\n",
    "\n",
    "So for example if you sell ten boxes of cereal a day, and it takes 3 days for orders to arrive from the cereal fatory, then you should hold 30 boxes of cereal on hand or you'll run out as people buy their breakfast.\n",
    "\n",
    "This is great except in real life, both demand and supply are not constant. \n",
    "In most textbook this is either given, or done through point estimates. With Pymc3 we can do way better"
   ]
  },
  {
   "cell_type": "markdown",
   "metadata": {},
   "source": [
    "## Step 1: Collect Data\n",
    "Data in supply chains usually is just transactions in a SQL Database. These need to be converted into distributions for Pymc3"
   ]
  },
  {
   "cell_type": "code",
   "execution_count": 1,
   "metadata": {},
   "outputs": [],
   "source": [
    "import numpy as np\n",
    "import pymc3 as pm"
   ]
  },
  {
   "cell_type": "code",
   "execution_count": 2,
   "metadata": {},
   "outputs": [],
   "source": [
    "# This usually needs to be calculated as well\n",
    "supplier_leadtime_days = np.repeat([2,4,2,3,2,2,3], 10)*10\n",
    "demand_per_day = np.repeat([2,4,2,3,2,2,3], 10)"
   ]
  },
  {
   "cell_type": "markdown",
   "metadata": {},
   "source": [
    "## Step 2: Estimate Distributions\n",
    "Good thing we have Bayesian Magic.\n",
    "\n",
    "Poisson is a good choice because it only exists over domain of positive natural numbers. Demand rarely is fractional (depends on industry and product though). Lead time is usually planned in days between suppliers. "
   ]
  },
  {
   "cell_type": "code",
   "execution_count": 3,
   "metadata": {},
   "outputs": [
    {
     "name": "stderr",
     "output_type": "stream",
     "text": [
      "Auto-assigning NUTS sampler...\n",
      "Initializing NUTS using jitter+adapt_diag...\n",
      "Multiprocess sampling (2 chains in 2 jobs)\n",
      "NUTS: [lambda]\n",
      "Sampling 2 chains: 100%|██████████| 2000/2000 [00:01<00:00, 1611.26draws/s]\n",
      "The acceptance probability does not match the target. It is 0.891421801468484, but should be close to 0.8. Try to increase the number of tuning steps.\n",
      "The acceptance probability does not match the target. It is 0.8877590191837893, but should be close to 0.8. Try to increase the number of tuning steps.\n",
      "100%|██████████| 500/500 [00:00<00:00, 2412.94it/s]\n"
     ]
    }
   ],
   "source": [
    "with pm.Model() as supplier_lead_time:\n",
    "    # Just guessing on the priors\n",
    "    _lambda = pm.Normal(\"lambda\", mu=10, sd=2)\n",
    "    lead_time = pm.Poisson(\"lead_time\", mu=_lambda, observed = supplier_leadtime_days)\n",
    "    posterior = pm.sample()\n",
    "    posterior_pred = pm.sample_posterior_predictive(posterior)"
   ]
  },
  {
   "cell_type": "code",
   "execution_count": 4,
   "metadata": {},
   "outputs": [
    {
     "data": {
      "text/plain": [
       "array([<matplotlib.axes._subplots.AxesSubplot object at 0x1c22c11048>],\n",
       "      dtype=object)"
      ]
     },
     "execution_count": 4,
     "metadata": {},
     "output_type": "execute_result"
    },
    {
     "data": {
      "image/png": "[encoded data removed]",
      "text/plain": [
       "<Figure size 432x288 with 1 Axes>"
      ]
     },
     "metadata": {
      "needs_background": "light"
     },
     "output_type": "display_data"
    }
   ],
   "source": [
    "import arviz as az\n",
    "az.plot_posterior(posterior)"
   ]
  },
  {
   "cell_type": "markdown",
   "metadata": {},
   "source": [
    "### Also estimate demand distribution"
   ]
  },
  {
   "cell_type": "markdown",
   "metadata": {},
   "source": [
    "## Step 3: Using two distributions, generate demand over supply lead time distribution\n",
    "Procedure\n",
    "1. Take random sample from LT Distribution to achieve lead_time_days\n",
    "2. Take N samples from demand distribution, where N=lead_time_days\n",
    "3. Add sample to demand_over_lt  sample\n",
    "4. Repeat until you have large sample set\n",
    "\n",
    "Now a choice\n",
    "Use non parameteric to determine 95% distribution bounds, or use Pymc3 to estimate distribution parameters\n",
    "\n",
    "This is already way better than what most supply chains do so doesn't have to be perfectb"
   ]
  },
  {
   "cell_type": "markdown",
   "metadata": {},
   "source": [
    "## Extending this\n",
    "1. Demand can be estimated with anything, Arima, Prophet, take your pick\n",
    "2. I think there's a clever way to incoporate existing orders into risk as well. Need to think through this more, might be another blog post"
   ]
  }
 ],
 "metadata": {
  "kernelspec": {
   "display_name": "Python 3",
   "language": "python",
   "name": "python3"
  },
  "language_info": {
   "codemirror_mode": {
    "name": "ipython",
    "version": 3
   },
   "file_extension": ".py",
   "mimetype": "text/x-python",
   "name": "python",
   "nbconvert_exporter": "python",
   "pygments_lexer": "ipython3",
   "version": "3.5.6"
  }
 },
 "nbformat": 4,
 "nbformat_minor": 2
}
