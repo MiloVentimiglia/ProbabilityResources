{
 "cells": [
  {
   "cell_type": "markdown",
   "metadata": {},
   "source": [
    "# Bayes Inference cheatsheet\n",
    "When performing Bayesian Inference, there are numerous ways to solve, or approximate, a posterior distribution. Usually an author of a book or tutorial will choose one, or they will present both but many chapters apart. This notebook solves the same problem each way all in Python. References are provided for each method for further exploration as well.\n",
    "\n",
    "## Another great reference\n",
    "Chapter 8 of [Osvaldo Martin's book](https://www.packtpub.com/big-data-and-business-intelligence/bayesian-analysis-python-second-edition) contains a more in depth overview of the methods below. I highly reccomend reaeding it as well, particularly if you would like a deeper understanding of each method.\n"
   ]
  },
  {
   "cell_type": "code",
   "execution_count": 1,
   "metadata": {},
   "outputs": [],
   "source": [
    "from scipy import stats\n",
    "import numpy as np\n",
    "import pandas as pd\n",
    "import matplotlib.pyplot as plt\n",
    "import pymc3 as pm\n",
    "import pystan\n",
    "import arviz as az"
   ]
  },
  {
   "cell_type": "markdown",
   "metadata": {},
   "source": [
    "## The problem\n",
    "What is the proportion of water on the globe, given measurements of random tosses?\n",
    "This question is taken from Richard McElreath's books and his lecture. A video explanation can be found here.\n",
    "\n",
    "[Proportion of Water on a Globe](https://youtu.be/XoVtOAN0htU?t=278)"
   ]
  },
  {
   "cell_type": "markdown",
   "metadata": {},
   "source": [
    "### Problem definition in Python\n",
    "Usually this is done with numpy arrays, where water and land is encoded with 0 and 1 for success. I'm doing it here in two steps to highlight that the ones and zeros just stand for success and failure"
   ]
  },
  {
   "cell_type": "code",
   "execution_count": 2,
   "metadata": {},
   "outputs": [
    {
     "data": {
      "text/plain": [
       "array([1, 0, 1, 1, 1, 0, 1, 0, 1])"
      ]
     },
     "execution_count": 2,
     "metadata": {},
     "output_type": "execute_result"
    }
   ],
   "source": [
    "observations = pd.Series([\"w\", \"l\", \"w\", \"w\", \"w\",\"l\",\"w\", \"l\", \"w\"])\n",
    "\n",
    "# Convert to binomial representation\n",
    "observations_binom = (observations == \"w\").astype(int).values\n",
    "observations_binom"
   ]
  },
  {
   "cell_type": "code",
   "execution_count": 3,
   "metadata": {},
   "outputs": [],
   "source": [
    "water_observations = sum(observations_binom)\n",
    "total_observations = len(observations_binom)"
   ]
  },
  {
   "cell_type": "markdown",
   "metadata": {},
   "source": [
    "# Inference\n",
    "There are multiple ways of doing inference, even more than the ones here. For each method there is an example, reference links, and short list of pros and cons."
   ]
  },
  {
   "cell_type": "markdown",
   "metadata": {},
   "source": [
    "## Conjugate Prior\n",
    "Conjugate priors are the \"original\" way of solving Bayes rule. Conjurage priors are analytical solutions, meaning that a good (probably great) mathematician was able to create a closed form solution by hand. For our Beta Binominal water tossing problem we can use the formula here and magically get the solution.\n",
    "\n",
    "## Reference\n",
    "https://en.wikipedia.org/wiki/Conjugate_prior"
   ]
  },
  {
   "cell_type": "code",
   "execution_count": 4,
   "metadata": {},
   "outputs": [],
   "source": [
    "_alpha = 1 + water_observations\n",
    "_beta = 1 + total_observations - water_observations"
   ]
  },
  {
   "cell_type": "code",
   "execution_count": 5,
   "metadata": {},
   "outputs": [
    {
     "data": {
      "text/plain": [
       "Text(0.5, 0.98, 'Exact Posterior through Conjugate Prior')"
      ]
     },
     "execution_count": 5,
     "metadata": {},
     "output_type": "execute_result"
    },
    {
     "data": {
      "image/png": "[encoded data removed]",
      "text/plain": [
       "<Figure size 432x288 with 1 Axes>"
      ]
     },
     "metadata": {
      "needs_background": "light"
     },
     "output_type": "display_data"
    }
   ],
   "source": [
    "x = np.linspace(0,1,100)\n",
    "posterior_conjugate = stats.beta.pdf(x, a=_alpha, b=_beta)\n",
    "\n",
    "fig, ax = plt.subplots()\n",
    "plt.plot(x,posterior_conjugate)\n",
    "ax.set_yticks([])\n",
    "fig.suptitle(\"Exact Posterior through Conjugate Prior\")"
   ]
  },
  {
   "cell_type": "code",
   "execution_count": 6,
   "metadata": {},
   "outputs": [
    {
     "data": {
      "text/plain": [
       "0.2931796007669374"
      ]
     },
     "execution_count": 6,
     "metadata": {},
     "output_type": "execute_result"
    }
   ],
   "source": [
    "posterior_conjugate[40] / posterior_conjugate[70]"
   ]
  },
  {
   "cell_type": "markdown",
   "metadata": {},
   "source": [
    "### Conjugate Prior Pros\n",
    "* Posterior distribution is exact. It is *not* an estimation\n",
    "* Most computationally efficient\n",
    "\n",
    "### Conjugate Prior Cons\n",
    "* Requires advanced math skills to get analytical solution\n",
    "* Only simple problems have been solved (https://en.wikipedia.org/wiki/Conjugate_prior#Table_of_conjugate_distributions)"
   ]
  },
  {
   "cell_type": "markdown",
   "metadata": {},
   "source": [
    "## Grid Search\n",
    "Steps\n",
    "1. Generate a grid of points\n",
    "2. Calculate likelihood for each point\n",
    "3. For each beta take another grid of points to get probability\n",
    "4. Calculate likelihood and posterior\n",
    "\n",
    "**Statistical Rethinking** Chapter 3 contains a great overview of Grid Search"
   ]
  },
  {
   "cell_type": "code",
   "execution_count": 7,
   "metadata": {},
   "outputs": [],
   "source": [
    "possible_probabilities = np.linspace(0,1,100)\n",
    "prior = np.repeat(5,100)\n",
    "likelihood = stats.binom.pmf(water_observations, total_observations, possible_probabilities)\n",
    "\n",
    "posterior_unstandardized = likelihood * prior\n",
    "posterior_grid_search = posterior_unstandardized / sum(posterior_unstandardized)"
   ]
  },
  {
   "cell_type": "code",
   "execution_count": 8,
   "metadata": {},
   "outputs": [
    {
     "data": {
      "text/plain": [
       "Text(0.5, 0.98, 'Posterior through Grid Approximation')"
      ]
     },
     "execution_count": 8,
     "metadata": {},
     "output_type": "execute_result"
    },
    {
     "data": {
      "image/png": "[encoded data removed]",
      "text/plain": [
       "<Figure size 432x288 with 1 Axes>"
      ]
     },
     "metadata": {
      "needs_background": "light"
     },
     "output_type": "display_data"
    }
   ],
   "source": [
    "fig, ax = plt.subplots()\n",
    "plt.plot(possible_probabilities, posterior_grid_search)\n",
    "ax.set_yticks([])\n",
    "fig.suptitle(\"Posterior through Grid Approximation\")"
   ]
  },
  {
   "cell_type": "code",
   "execution_count": 9,
   "metadata": {},
   "outputs": [
    {
     "data": {
      "text/plain": [
       "0.29317960076693733"
      ]
     },
     "execution_count": 9,
     "metadata": {},
     "output_type": "execute_result"
    }
   ],
   "source": [
    "posterior_grid_search[40] / posterior_grid_search[70]"
   ]
  },
  {
   "cell_type": "markdown",
   "metadata": {},
   "source": [
    "### Grid Search Pros\n",
    "* Conceptually simple\n",
    "* Can theoretically be used to solve any problems\n",
    "\n",
    "### Grid Search Cons\n",
    "* Combinatorics will mean that solution scales very poorly. The sun will explode before inference is completed on most models"
   ]
  },
  {
   "cell_type": "markdown",
   "metadata": {},
   "source": [
    "## Quadratic (Laplace) Approximation\n",
    "http://www.sumsar.net/blog/2013/11/easy-laplace-approximation/  \n",
    "https://github.com/pymc-devs/resources/blob/master/Rethinking/Chp_02.ipynb\n",
    "\n",
    "Chapter 8 of Bayesian Analysis in Python\n",
    "https://www.packtpub.com/big-data-and-business-intelligence/bayesian-analysis-python-second-edition"
   ]
  },
  {
   "cell_type": "code",
   "execution_count": 10,
   "metadata": {},
   "outputs": [
    {
     "name": "stderr",
     "output_type": "stream",
     "text": [
      "/Users/canyon/.miniconda3/envs/arviz/lib/python3.6/site-packages/pymc3/tuning/starting.py:61: UserWarning: find_MAP should not be used to initialize the NUTS sampler, simply call pymc3.sample() and it will automatically initialize NUTS in a better way.\n",
      "  warnings.warn('find_MAP should not be used to initialize the NUTS sampler, simply call pymc3.sample() and it will automatically initialize NUTS in a better way.')\n",
      "logp = -1.8075, ||grad|| = 1.5: 100%|██████████| 7/7 [00:00<00:00, 438.68it/s]\n"
     ]
    },
    {
     "data": {
      "text/plain": [
       "(array(0.66666667), array([0.15713484]))"
      ]
     },
     "execution_count": 10,
     "metadata": {},
     "output_type": "execute_result"
    }
   ],
   "source": [
    "with pm.Model() as normal_aproximation:\n",
    "    p = pm.Uniform('p', 0, 1)\n",
    "    w = pm.Binomial('w', n=total_observations, p=p, observed=water_observations)\n",
    "    mean_q = pm.find_MAP()\n",
    "    std_q = ((1/pm.find_hessian(mean_q, vars=[p]))**0.5)[0]\n",
    "mean_q['p'], std_q"
   ]
  },
  {
   "cell_type": "code",
   "execution_count": 11,
   "metadata": {},
   "outputs": [
    {
     "data": {
      "text/plain": [
       "Text(0.5, 0.98, 'Posterior Approximation through Quadratic Approximation')"
      ]
     },
     "execution_count": 11,
     "metadata": {},
     "output_type": "execute_result"
    },
    {
     "data": {
      "image/png": "[encoded data removed]",
      "text/plain": [
       "<Figure size 432x288 with 1 Axes>"
      ]
     },
     "metadata": {
      "needs_background": "light"
     },
     "output_type": "display_data"
    }
   ],
   "source": [
    "possible_probabilities = np.linspace(0,1,100)\n",
    "posterior_laplace = stats.norm.pdf(possible_probabilities, mean_q['p'], std_q)\n",
    "fig, ax = plt.subplots()\n",
    "ax.set_yticks([])\n",
    "plt.plot(possible_probabilities, posterior_laplace)\n",
    "fig.suptitle(\"Posterior Approximation through Quadratic Approximation\")"
   ]
  },
  {
   "cell_type": "code",
   "execution_count": 12,
   "metadata": {},
   "outputs": [
    {
     "data": {
      "text/plain": [
       "0.255729157826732"
      ]
     },
     "execution_count": 12,
     "metadata": {},
     "output_type": "execute_result"
    }
   ],
   "source": [
    "posterior_laplace[40] / posterior_laplace[70]"
   ]
  },
  {
   "cell_type": "markdown",
   "metadata": {},
   "source": [
    "### Laplace Approximation Pros\n",
    "* Relatively fast compared to methods such as MCMC or ADVI\n",
    "\n",
    "### Laplace Approximation Cons\n",
    "* Normal distributions can't approximate everything, for example bimodel distributions"
   ]
  },
  {
   "cell_type": "markdown",
   "metadata": {},
   "source": [
    "## Markov Chain Monte Carlo\n",
    "Markov Chain Monte Carlo (MCMC) is a way approximate a posterior distribution by sampling from the posterior distribution. I found the visualizations in the link below make it easier to see what this means. The advances in MCMC are coming from advances in samplers. The No U Turn Sampler (NUTS) for example is one of the most widely popular at the moment, since it can \"find\" good samples more often than older samples such as Metropolis Hastings.\n",
    "\n",
    "There are many bayesian libraries in addition to the two shown here."
   ]
  },
  {
   "cell_type": "markdown",
   "metadata": {},
   "source": [
    "### \"Hand built\" Metroplis Hastings\n",
    "https://twiecki.io/blog/2015/11/10/mcmc-sampling/  \n",
    "http://elevanth.org/blog/2017/11/28/build-a-better-markov-chain/"
   ]
  },
  {
   "cell_type": "code",
   "execution_count": 13,
   "metadata": {},
   "outputs": [],
   "source": [
    "samples = 5000\n",
    "proposal_width = .1\n",
    "p_accept = .5\n",
    "\n",
    "# Assume Normal Prior for this example\n",
    "p_water_current = .5\n",
    "p_water_prior_normal_mu = .5\n",
    "p_water_prior_normal_sd = 1\n",
    "\n",
    "mh_posterior = []\n",
    "for i in range(samples):\n",
    "    # Proposal Normal distribution\n",
    "    p_water_proposal = stats.norm(p_water_current, proposal_width).rvs()\n",
    "    \n",
    "    # Calculate likelihood of each\n",
    "    likelihood_current = stats.binom.pmf(water_observations, total_observations, p_water_current)\n",
    "    likelihood_proposal = stats.binom.pmf(water_observations, total_observations, p_water_proposal)\n",
    "\n",
    "    # Convert likelihoods that evaluate to nans to zero\n",
    "    likelihood_current = np.nan_to_num(likelihood_current)\n",
    "    likelihood_proposal = np.nan_to_num(likelihood_proposal)\n",
    "    \n",
    "    # Calculate prior value given proposal and current\n",
    "    prior_current = stats.norm(p_water_prior_normal_mu, p_water_prior_normal_sd).pdf(p_water_current)\n",
    "    prior_proposal = stats.norm(p_water_prior_normal_mu, p_water_prior_normal_sd).pdf(p_water_proposal)\n",
    "\n",
    "    # Calculate posterior probability of current and proposals\n",
    "    p_current = likelihood_current * prior_current\n",
    "    p_proposal = likelihood_proposal * prior_proposal\n",
    "    \n",
    "    p_accept = p_proposal / p_current\n",
    "    \n",
    "    if np.random.rand() < p_accept:\n",
    "        p_water_current = p_water_proposal\n",
    "    \n",
    "    assert p_water_current > 0\n",
    "\n",
    "    mh_posterior.append(p_water_current)"
   ]
  },
  {
   "cell_type": "code",
   "execution_count": 14,
   "metadata": {},
   "outputs": [
    {
     "data": {
      "text/plain": [
       "array([<matplotlib.axes._subplots.AxesSubplot object at 0x1c2ae2b710>],\n",
       "      dtype=object)"
      ]
     },
     "execution_count": 14,
     "metadata": {},
     "output_type": "execute_result"
    },
    {
     "data": {
      "image/png": "[encoded data removed]",
      "text/plain": [
       "<Figure size 432x288 with 1 Axes>"
      ]
     },
     "metadata": {
      "needs_background": "light"
     },
     "output_type": "display_data"
    }
   ],
   "source": [
    "mh_posterior= np.asarray(mh_posterior)\n",
    "az.plot_posterior(mh_posterior)"
   ]
  },
  {
   "cell_type": "code",
   "execution_count": 15,
   "metadata": {},
   "outputs": [
    {
     "data": {
      "text/plain": [
       "array([0.52734122, 0.65863867, 0.65863867, ..., 0.75479234, 0.60754154,\n",
       "       0.60391625])"
      ]
     },
     "execution_count": 15,
     "metadata": {},
     "output_type": "execute_result"
    }
   ],
   "source": [
    "np.asarray(mh_posterior)"
   ]
  },
  {
   "cell_type": "markdown",
   "metadata": {},
   "source": [
    "### Estimate local probability\n",
    "Because MCMC provides samples and not an actual distribution, we have to take a ratio of counts, not a ratio of areas as before"
   ]
  },
  {
   "cell_type": "code",
   "execution_count": 16,
   "metadata": {},
   "outputs": [
    {
     "data": {
      "text/plain": [
       "0.25252525252525254"
      ]
     },
     "execution_count": 16,
     "metadata": {},
     "output_type": "execute_result"
    }
   ],
   "source": [
    "def estimate_prob_ratio_from_samples(mcmc_posterior, prob_1=possible_probabilities[40],\n",
    "                                     prob_2=possible_probabilities[70], width=.01):\n",
    "    \n",
    "    # We need to compare the same interval in the distribution as we did above\n",
    "    # In the above case x[20] is .01 wide centered at \n",
    "    num_samples_1 = np.sum(np.isclose(prob_1, mcmc_posterior, rtol=0, atol=width))\n",
    "    num_samples_2 = np.sum(np.isclose(prob_2, mcmc_posterior, rtol=0, atol=width))\n",
    "    return num_samples_1 / num_samples_2\n",
    "    \n",
    "estimate_prob_ratio_from_samples(mh_posterior)"
   ]
  },
  {
   "cell_type": "markdown",
   "metadata": {},
   "source": [
    "## PyMC3 MCMC Hamilton Monte Carlo (Specifically Nuts)\n",
    "Probabilistic Programming languages simplify Bayesian modeling tremendously but letting letting the statistician focus on the model, and less so on the sampler or other mathematical details. From a s"
   ]
  },
  {
   "cell_type": "code",
   "execution_count": 17,
   "metadata": {},
   "outputs": [
    {
     "name": "stderr",
     "output_type": "stream",
     "text": [
      "Auto-assigning NUTS sampler...\n",
      "INFO:pymc3:Auto-assigning NUTS sampler...\n",
      "Initializing NUTS using jitter+adapt_diag...\n",
      "INFO:pymc3:Initializing NUTS using jitter+adapt_diag...\n",
      "Multiprocess sampling (2 chains in 2 jobs)\n",
      "INFO:pymc3:Multiprocess sampling (2 chains in 2 jobs)\n",
      "NUTS: [p]\n",
      "INFO:pymc3:NUTS: [p]\n",
      "Sampling 2 chains: 100%|██████████| 101000/101000 [02:56<00:00, 570.75draws/s]\n"
     ]
    },
    {
     "data": {
      "text/plain": [
       "array([<matplotlib.axes._subplots.AxesSubplot object at 0x1c2d2265c0>],\n",
       "      dtype=object)"
      ]
     },
     "execution_count": 17,
     "metadata": {},
     "output_type": "execute_result"
    },
    {
     "data": {
      "image/png": "[encoded data removed]",
      "text/plain": [
       "<Figure size 432x288 with 1 Axes>"
      ]
     },
     "metadata": {
      "needs_background": "light"
     },
     "output_type": "display_data"
    }
   ],
   "source": [
    "with pm.Model() as mcmc_nuts:\n",
    "    p_water = pm.Uniform(\"p\", 0 ,1)\n",
    "    w = pm.Binomial(\"w\", p=p_water, n=total_observations, observed=water_observations)\n",
    "    trace = pm.sample(50000, chains=2)\n",
    "    \n",
    "az.plot_posterior(trace)"
   ]
  },
  {
   "cell_type": "code",
   "execution_count": 19,
   "metadata": {},
   "outputs": [
    {
     "data": {
      "text/plain": [
       "0.2939352838597171"
      ]
     },
     "execution_count": 19,
     "metadata": {},
     "output_type": "execute_result"
    }
   ],
   "source": [
    "pymc3_samples = trace.get_values(\"p\")\n",
    "estimate_prob_ratio_from_samples(pymc3_samples)"
   ]
  },
  {
   "cell_type": "markdown",
   "metadata": {},
   "source": [
    "## Stan MCMC Hamilton Monte Carlo (Also Nuts)\n",
    "We can build the same model in Stan as well, in this case pystan, which is a python interface to Stan.\n"
   ]
  },
  {
   "cell_type": "code",
   "execution_count": 20,
   "metadata": {},
   "outputs": [
    {
     "name": "stderr",
     "output_type": "stream",
     "text": [
      "INFO:pystan:COMPILING THE C++ CODE FOR MODEL anon_model_dedfcbf67db9d2d5064f58308236c51b NOW.\n"
     ]
    },
    {
     "name": "stdout",
     "output_type": "stream",
     "text": [
      "In file included from /var/folders/gt/28pvdm614vd_2tn01llmx3s00000gp/T/tmplfgnb5v3/stanfit4anon_model_dedfcbf67db9d2d5064f58308236c51b_6981221221787175261.cpp:642:\n",
      "In file included from /Users/canyon/.miniconda3/envs/arviz/lib/python3.6/site-packages/numpy/core/include/numpy/arrayobject.h:4:\n",
      "In file included from /Users/canyon/.miniconda3/envs/arviz/lib/python3.6/site-packages/numpy/core/include/numpy/ndarrayobject.h:18:\n",
      "In file included from /Users/canyon/.miniconda3/envs/arviz/lib/python3.6/site-packages/numpy/core/include/numpy/ndarraytypes.h:1823:\n",
      "/Users/canyon/.miniconda3/envs/arviz/lib/python3.6/site-packages/numpy/core/include/numpy/npy_1_7_deprecated_api.h:15:2: warning: \"Using deprecated NumPy API, disable it by \"          \"#defining NPY_NO_DEPRECATED_API NPY_1_7_API_VERSION\" [-W#warnings]\n",
      "#warning \"Using deprecated NumPy API, disable it by \" \\\n",
      " ^\n",
      "1 warning generated.\n",
      "ld: warning: -pie being ignored. It is only used when linking a main executable\n",
      "ld: warning: ignoring file /Library/Developer/CommandLineTools/SDKs/MacOSX10.14.sdk/usr/lib/libSystem.tbd, file was built for unsupported file format ( 0x2D 0x2D 0x2D 0x20 0x21 0x74 0x61 0x70 0x69 0x2D 0x74 0x62 0x64 0x2D 0x76 0x33 ) which is not the architecture being linked (x86_64): /Library/Developer/CommandLineTools/SDKs/MacOSX10.14.sdk/usr/lib/libSystem.tbd\n"
     ]
    }
   ],
   "source": [
    "water_code = \"\"\"\n",
    "data {\n",
    "    int<lower=0> water_observations; // number of water observations\n",
    "    int<lower=0> number_of_tosses; // number of globe tosses\n",
    "}\n",
    "\n",
    "parameters {\n",
    "    real p_water; // Proportion of water on globe\n",
    "}\n",
    "\n",
    "model {\n",
    "    p_water~uniform(0.0,1.0);\n",
    "    water_observations ~ binomial(number_of_tosses, p_water);\n",
    "}\n",
    "\"\"\"\n",
    "water_dat = {'water_observations': 6,\n",
    "               'number_of_tosses': 9}\n",
    "\n",
    "sm = pystan.StanModel(model_code=water_code)\n"
   ]
  },
  {
   "cell_type": "code",
   "execution_count": 21,
   "metadata": {},
   "outputs": [
    {
     "name": "stderr",
     "output_type": "stream",
     "text": [
      "WARNING:pystan:1460 of 100000 iterations ended with a divergence (1.46%).\n",
      "WARNING:pystan:Try running with adapt_delta larger than 0.8 to remove the divergences.\n"
     ]
    }
   ],
   "source": [
    "fit = sm.sampling(data=water_dat, iter=50000, chains=4)"
   ]
  },
  {
   "cell_type": "code",
   "execution_count": 22,
   "metadata": {},
   "outputs": [
    {
     "data": {
      "text/plain": [
       "0.2915390505359878"
      ]
     },
     "execution_count": 22,
     "metadata": {},
     "output_type": "execute_result"
    }
   ],
   "source": [
    "stan_samples = fit[\"p_water\"]\n",
    "estimate_prob_ratio_from_samples(stan_samples)"
   ]
  },
  {
   "cell_type": "markdown",
   "metadata": {},
   "source": [
    "## Markov Monte Carlo Chain Pros\n",
    "* MCMC seems to be most popular method at time of writing\n",
    "* Popular libraries such as Stan, PyMC3, emcee, Pyro, use MCMC as main inference engine"
   ]
  },
  {
   "cell_type": "markdown",
   "metadata": {},
   "source": [
    "## PyMC3 Variational Inference (Specifically Automatic Differentiation Variational Inference)\n",
    "In short Variational Inference iteratively converts a model into an unconstrained space, then tries to optimize the Kullback-Leibler divergence. A great explanation of the exact steps can be found at the bottom of page 3 below.\n",
    "\n",
    "http://www.jmlr.org/papers/volume18/16-107/16-107.pdf  \n",
    "https://www.cs.toronto.edu/~duvenaud/papers/blackbox.pdf  \n",
    "https://arxiv.org/pdf/1601.00670.pdf"
   ]
  },
  {
   "cell_type": "code",
   "execution_count": 23,
   "metadata": {},
   "outputs": [
    {
     "name": "stderr",
     "output_type": "stream",
     "text": [
      "Average Loss = 2.3092: 100%|██████████| 50000/50000 [01:26<00:00, 576.23it/s]\n",
      "Finished [100%]: Average Loss = 2.3102\n",
      "INFO:pymc3.variational.inference:Finished [100%]: Average Loss = 2.3102\n"
     ]
    },
    {
     "data": {
      "text/plain": [
       "array([<matplotlib.axes._subplots.AxesSubplot object at 0x1c2f77ca58>],\n",
       "      dtype=object)"
      ]
     },
     "execution_count": 23,
     "metadata": {},
     "output_type": "execute_result"
    },
    {
     "data": {
      "image/png": "[encoded data removed]",
      "text/plain": [
       "<Figure size 432x288 with 1 Axes>"
      ]
     },
     "metadata": {
      "needs_background": "light"
     },
     "output_type": "display_data"
    }
   ],
   "source": [
    "with pm.Model() as advi:\n",
    "    p_water = pm.Uniform(\"p\", 0 ,1)\n",
    "    w = pm.Binomial(\"w\", p=p_water, n=total_observations, observed=water_observations)\n",
    "    mean_field = pm.fit(method='advi', n=50000)\n",
    "\n",
    "advi_samples = mean_field.sample(50000).get_values(\"p\")\n",
    "az.plot_posterior(advi_samples)"
   ]
  },
  {
   "cell_type": "code",
   "execution_count": 24,
   "metadata": {},
   "outputs": [
    {
     "data": {
      "text/plain": [
       "0.358148893360161"
      ]
     },
     "execution_count": 24,
     "metadata": {},
     "output_type": "execute_result"
    }
   ],
   "source": [
    "estimate_prob_ratio_from_samples(advi_samples)"
   ]
  },
  {
   "cell_type": "markdown",
   "metadata": {},
   "source": [
    "### Variational Inference Pros\n",
    "* No sampling required unlike MCMC\n",
    "* Able to handle complex models\n",
    "* Scales to large amounts of data better than MCMC\n",
    "* Faster than MCMC\n",
    "\n",
    "### Variational Inference Cons\n",
    "* Not guaranteed to reach \"optimal\" KL Diverence\n"
   ]
  },
  {
   "cell_type": "markdown",
   "metadata": {},
   "source": [
    "# Other Inference Methods\n",
    "There are other Bayesian methods that I frankly don't know enough about to write a full treatement here. I will list the ones I do know about however.\n",
    "* Approximate Bayesian Computing"
   ]
  }
 ],
 "metadata": {
  "kernelspec": {
   "display_name": "Python 3",
   "language": "python",
   "name": "python3"
  },
  "language_info": {
   "codemirror_mode": {
    "name": "ipython",
    "version": 3
   },
   "file_extension": ".py",
   "mimetype": "text/x-python",
   "name": "python",
   "nbconvert_exporter": "python",
   "pygments_lexer": "ipython3",
   "version": "3.6.7"
  }
 },
 "nbformat": 4,
 "nbformat_minor": 2
}
