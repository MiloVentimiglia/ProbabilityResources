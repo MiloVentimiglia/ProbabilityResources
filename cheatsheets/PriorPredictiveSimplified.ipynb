{
 "cells": [
  {
   "cell_type": "markdown",
   "metadata": {},
   "source": [
    "# Prior Predictive Simplified so I can ask for help\n",
    "1. Is my calculation of prior predictive below correct?\n",
    "2. What is forward sampling in relation to this? (See Appendix for Colin's answer)\n",
    "\n",
    "#### Prior Definition\n",
    "$Pr_{prior}(\\text{Proportion of water}) = Uniform(0,1)$\n",
    "\n",
    "#### Data Generating Function\n",
    "$Binom(n,p)$\n"
   ]
  },
  {
   "cell_type": "code",
   "execution_count": 1,
   "metadata": {},
   "outputs": [
    {
     "data": {
      "text/plain": [
       "array([0.23181494, 0.95853956, 0.27907874, 0.51371745, 0.20376567])"
      ]
     },
     "execution_count": 1,
     "metadata": {},
     "output_type": "execute_result"
    }
   ],
   "source": [
    "from scipy.stats import beta, binom, uniform\n",
    "import arviz as az\n",
    "import numpy as np\n",
    "import matplotlib.pyplot as plt\n",
    "\n",
    "# Get samples from posterior\n",
    "prior_p_samples = uniform(0,1).rvs(1000)\n",
    "prior_p_samples[:5]"
   ]
  },
  {
   "cell_type": "code",
   "execution_count": 2,
   "metadata": {},
   "outputs": [
    {
     "data": {
      "text/plain": [
       "array([<matplotlib.axes._subplots.AxesSubplot object at 0x7fb9a7d7d668>],\n",
       "      dtype=object)"
      ]
     },
     "execution_count": 2,
     "metadata": {},
     "output_type": "execute_result"
    },
    {
     "data": {
      "image/png": "[encoded data removed]",
      "text/plain": [
       "<Figure size 432x288 with 1 Axes>"
      ]
     },
     "metadata": {
      "needs_background": "light"
     },
     "output_type": "display_data"
    }
   ],
   "source": [
    "az.plot_posterior(prior_p_samples)"
   ]
  },
  {
   "cell_type": "markdown",
   "metadata": {},
   "source": [
    "## Is this prior predictive?\n"
   ]
  },
  {
   "cell_type": "code",
   "execution_count": 3,
   "metadata": {},
   "outputs": [
    {
     "data": {
      "text/plain": [
       "array([5, 9, 1, 4, 1])"
      ]
     },
     "execution_count": 3,
     "metadata": {},
     "output_type": "execute_result"
    }
   ],
   "source": [
    "# From statistical rethinking globe example\n",
    "N_globe_throws=9\n",
    "\n",
    "prior_predictive = binom.rvs(n=N_globe_throws, p=prior_p_samples)\n",
    "prior_predictive[:5]"
   ]
  },
  {
   "cell_type": "markdown",
   "metadata": {},
   "source": [
    "# What is forward sampling in relation to prior predictive?\n",
    "\n",
    "**From Colin**\n",
    "\n",
    "Your prior are samples from your prior  \n",
    "The prior predictive are samples from your likelihood given your prior  \n",
    "In analogy with inference, the posterior are samples from your parameters, and the posterior predictive are samples from your observed variables  \n",
    "So to answer your question, the forward sample is the prior *and* prior predictive  \n",
    "Uah — it freaked me out because the prior and prior predictive are silly to think of in a computational context as _different_  \n",
    "but if you write down a bunch of integrals it sort of makes sense ¯\\_(ツ)_/¯  "
   ]
  },
  {
   "cell_type": "markdown",
   "metadata": {},
   "source": [
    "## My attempt at forward sampling\n",
    "Colin says samples from likelihood given prior. Is this a correct implementation?"
   ]
  },
  {
   "cell_type": "code",
   "execution_count": 4,
   "metadata": {},
   "outputs": [
    {
     "data": {
      "text/plain": [
       "array([0.00000000e+00, 1.11011165e-04, 4.75960372e-03, 3.41411370e-02,\n",
       "       1.11011165e-01, 2.16818683e-01, 2.73129096e-01, 2.04068009e-01,\n",
       "       5.68377167e-02, 0.00000000e+00])"
      ]
     },
     "execution_count": 4,
     "metadata": {},
     "output_type": "execute_result"
    },
    {
     "data": {
      "image/png": "[encoded data removed]",
      "text/plain": [
       "<Figure size 432x288 with 1 Axes>"
      ]
     },
     "metadata": {
      "needs_background": "light"
     },
     "output_type": "display_data"
    }
   ],
   "source": [
    "points = np.linspace(0,1,10)\n",
    "\n",
    "# From Statistical Rethinking Globe example\n",
    "N_water = 6\n",
    "likelihood = binom.pmf(N_water, N_globe_throws, points) \n",
    "\n",
    "fig, ax = plt.subplots(1, 1)\n",
    "ax.vlines(points, 0, likelihood, colors='k', linestyles='-', lw=1, label='frozen pmf')\n",
    "fig.suptitle(\"Likelihood Distribution of probability of water\")\n",
    "likelihood"
   ]
  },
  {
   "cell_type": "markdown",
   "metadata": {},
   "source": [
    "## Is this forward sampling?"
   ]
  },
  {
   "cell_type": "code",
   "execution_count": 7,
   "metadata": {},
   "outputs": [
    {
     "data": {
      "text/plain": [
       "array([0.55555556, 0.55555556, 0.66666667, 0.66666667, 0.44444444,\n",
       "       0.66666667, 0.55555556, 0.33333333, 0.77777778, 0.55555556])"
      ]
     },
     "execution_count": 7,
     "metadata": {},
     "output_type": "execute_result"
    }
   ],
   "source": [
    "# Normalize likelihood to 1 so I can sample from it\n",
    "likelihood_normalized = likelihood/sum(likelihood)\n",
    "forward_samples = np.random.choice(points, size=10, p=likelihood_normalized)\n",
    "forward_samples"
   ]
  }
 ],
 "metadata": {
  "kernelspec": {
   "display_name": "Python 3",
   "language": "python",
   "name": "python3"
  },
  "language_info": {
   "codemirror_mode": {
    "name": "ipython",
    "version": 3
   },
   "file_extension": ".py",
   "mimetype": "text/x-python",
   "name": "python",
   "nbconvert_exporter": "python",
   "pygments_lexer": "ipython3",
   "version": "3.6.7"
  }
 },
 "nbformat": 4,
 "nbformat_minor": 2
}
